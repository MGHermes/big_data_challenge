{
  "nbformat": 4,
  "nbformat_minor": 0,
  "metadata": {
    "colab": {
      "provenance": [],
      "collapsed_sections": []
    },
    "kernelspec": {
      "name": "python3",
      "display_name": "Python 3"
    },
    "language_info": {
      "name": "python"
    }
  },
  "cells": [
    {
      "cell_type": "code",
      "execution_count": null,
      "metadata": {
        "id": "A1IarCJUjIXW"
      },
      "outputs": [],
      "source": [
        "import os\n",
        "# Find the latest version of spark 3.2  from http://www.apache.org/dist/spark/ and enter as the spark version\n",
        "# For example:\n",
        "spark_version = 'spark-3.2.2'\n",
        "# spark_version = 'spark-3.<version number>'\n",
        "os.environ['SPARK_VERSION']=spark_version\n",
        "\n",
        "# Install Spark and Java\n",
        "!apt-get update\n",
        "!apt-get install openjdk-8-jdk-headless -qq > /dev/null\n",
        "!wget -q http://www.apache.org/dist/spark/$SPARK_VERSION/$SPARK_VERSION-bin-hadoop2.7.tgz\n",
        "!tar xf $SPARK_VERSION-bin-hadoop2.7.tgz\n",
        "!pip install -q findspark\n",
        "\n",
        "# Set Environment Variables\n",
        "os.environ[\"JAVA_HOME\"] = \"/usr/lib/jvm/java-8-openjdk-amd64\"\n",
        "os.environ[\"SPARK_HOME\"] = f\"/content/{spark_version}-bin-hadoop2.7\"\n",
        "\n",
        "# Start a SparkSession\n",
        "import findspark\n",
        "findspark.init()"
      ]
    },
    {
      "cell_type": "code",
      "source": [
        "# Allows for us to do operations with pyspark data frames and connect to postgres\n",
        "\n",
        "!wget https://jdbc.postgresql.org/download/postgresql-42.2.9.jar"
      ],
      "metadata": {
        "id": "KsiPAxRRobG6"
      },
      "execution_count": null,
      "outputs": []
    },
    {
      "cell_type": "code",
      "source": [
        "# Create a new spark session\n",
        "from pyspark.sql import SparkSession\n",
        "\n",
        "spark = SparkSession.builder.appName(\"CloudETL\").config(\"spark.driver.extraClassPath\",\"/content/postgresql-42.2.9.jar\").getOrCreate()"
      ],
      "metadata": {
        "id": "sBrw-Dcbq9P0"
      },
      "execution_count": null,
      "outputs": []
    },
    {
      "cell_type": "code",
      "source": [
        "# Load the tsv file using SparkFiles and the tsv url\n",
        "from pyspark import SparkFiles\n",
        "\n",
        "url = \"https://s3.amazonaws.com/amazon-reviews-pds/tsv/amazon_reviews_us_Grocery_v1_00.tsv.gz\"\n",
        "spark.sparkContext.addFile(url)\n",
        "\n",
        "df = spark.read.option('header', 'true').csv(SparkFiles.get(\"amazon_reviews_us_Grocery_v1_00.tsv.gz\"), inferSchema=True, sep='\\t', timestampFormat=\"yyyy-mm-dd\")\n",
        "\n",
        "df.show(10)"
      ],
      "metadata": {
        "colab": {
          "base_uri": "https://localhost:8080/"
        },
        "id": "Sr2-VV_irAhb",
        "outputId": "45b7f6b9-1884-472e-d5ed-7bbbbcd4005f"
      },
      "execution_count": null,
      "outputs": [
        {
          "output_type": "stream",
          "name": "stdout",
          "text": [
            "+-----------+-----------+--------------+----------+--------------+--------------------+----------------+-----------+-------------+-----------+----+-----------------+--------------------+--------------------+-------------------+\n",
            "|marketplace|customer_id|     review_id|product_id|product_parent|       product_title|product_category|star_rating|helpful_votes|total_votes|vine|verified_purchase|     review_headline|         review_body|        review_date|\n",
            "+-----------+-----------+--------------+----------+--------------+--------------------+----------------+-----------+-------------+-----------+----+-----------------+--------------------+--------------------+-------------------+\n",
            "|         US|   42521656|R26MV8D0KG6QI6|B000SAQCWC|     159713740|The Cravings Plac...|         Grocery|          5|            0|          0|   N|                Y|Using these for y...|As a family aller...|2015-01-31 00:08:00|\n",
            "|         US|   12049833|R1OF8GP57AQ1A0|B00509LVIQ|     138680402|Mauna Loa Macadam...|         Grocery|          5|            0|          0|   N|                Y|           Wonderful|My favorite nut. ...|2015-01-31 00:08:00|\n",
            "|         US|     107642|R3VDC1QB6MC4ZZ|B00KHXESLC|     252021703|Organic Matcha Gr...|         Grocery|          5|            0|          0|   N|                N|          Five Stars|This green tea ta...|2015-01-31 00:08:00|\n",
            "|         US|    6042304|R12FA3DCF8F9ER|B000F8JIIC|     752728342|15oz Raspberry Ly...|         Grocery|          5|            0|          0|   N|                Y|          Five Stars|I love Melissa's ...|2015-01-31 00:08:00|\n",
            "|         US|   18123821| RTWHVNV6X4CNJ|B004ZWR9RQ|     552138758|Stride Spark Kine...|         Grocery|          5|            0|          0|   N|                Y|          Five Stars|                good|2015-01-31 00:08:00|\n",
            "|         US|   23649464| RIG9AWFOGRDVO|B00AL6QBZ6|     681475449|Herr's Popcorn Ho...|         Grocery|          2|            1|          1|   N|                Y|           Not Happy|The popcorn was s...|2015-01-31 00:08:00|\n",
            "|         US|   32778285|R1S1XSG4ZCHDGS|B00BCNSTRA|     578681693|Larabar uber, 1.4...|         Grocery|          5|            1|          1|   N|                Y|          Five Stars|Love these bars, ...|2015-01-31 00:08:00|\n",
            "|         US|   46612941| RB15NBVY5ELVW|B0089MM2BG|     350968436|Shirakiku Soba No...|         Grocery|          5|            2|          2|   N|                Y|          Five Stars|Love the taste bu...|2015-01-31 00:08:00|\n",
            "|         US|   31525399| R56358YM1ZJ7I|B00Y1C9770|     729982780|Jif Chocolate Nut...|         Grocery|          5|            0|          0|   N|                N|      Great tasting!|I'm a member of t...|2015-01-31 00:08:00|\n",
            "|         US|   19624355|R1ODXB3C9UP3NL|B00J074W94|       2499702|Orgain Organic Pl...|         Grocery|          1|            1|          3|   N|                N|Disgusting now an...|Used to be a dece...|2015-01-31 00:08:00|\n",
            "+-----------+-----------+--------------+----------+--------------+--------------------+----------------+-----------+-------------+-----------+----+-----------------+--------------------+--------------------+-------------------+\n",
            "only showing top 10 rows\n",
            "\n"
          ]
        }
      ]
    },
    {
      "cell_type": "code",
      "source": [
        "# Drop null values\n",
        "df = df.dropna()\n",
        "\n",
        "# Count the number of records (rows) in the dataset\n",
        "rows = df.count()\n",
        "print(f\"DataFrame Rows count: {rows}\")"
      ],
      "metadata": {
        "colab": {
          "base_uri": "https://localhost:8080/"
        },
        "id": "K_Nf4f9arrfd",
        "outputId": "de433f75-08ab-43d1-f660-49f4b486d307"
      },
      "execution_count": null,
      "outputs": [
        {
          "output_type": "stream",
          "name": "stdout",
          "text": [
            "DataFrame Rows count: 2402212\n"
          ]
        }
      ]
    },
    {
      "cell_type": "code",
      "source": [
        "# Print schema\n",
        "df.printSchema()"
      ],
      "metadata": {
        "colab": {
          "base_uri": "https://localhost:8080/"
        },
        "id": "348vB_BuzQpd",
        "outputId": "b981739a-e3aa-49c0-d57d-eba5bc706d96"
      },
      "execution_count": null,
      "outputs": [
        {
          "output_type": "stream",
          "name": "stdout",
          "text": [
            "root\n",
            " |-- marketplace: string (nullable = true)\n",
            " |-- customer_id: integer (nullable = true)\n",
            " |-- review_id: string (nullable = true)\n",
            " |-- product_id: string (nullable = true)\n",
            " |-- product_parent: integer (nullable = true)\n",
            " |-- product_title: string (nullable = true)\n",
            " |-- product_category: string (nullable = true)\n",
            " |-- star_rating: integer (nullable = true)\n",
            " |-- helpful_votes: integer (nullable = true)\n",
            " |-- total_votes: integer (nullable = true)\n",
            " |-- vine: string (nullable = true)\n",
            " |-- verified_purchase: string (nullable = true)\n",
            " |-- review_headline: string (nullable = true)\n",
            " |-- review_body: string (nullable = true)\n",
            " |-- review_date: timestamp (nullable = true)\n",
            "\n"
          ]
        }
      ]
    },
    {
      "cell_type": "code",
      "source": [
        "# Create the review_id_table\n",
        "review_id_table = df.select([\"review_id\", \"customer_id\", \"product_id\", \"product_parent\", \"review_date\"])\n",
        "\n",
        "# Drop duplicate reviews\n",
        "review_id_table = review_id_table.dropDuplicates()\n",
        "review_id_table.show(3)"
      ],
      "metadata": {
        "colab": {
          "base_uri": "https://localhost:8080/"
        },
        "id": "UzZTojJ40ZXo",
        "outputId": "57629b17-9447-4373-af23-3160bc3d969a"
      },
      "execution_count": null,
      "outputs": [
        {
          "output_type": "stream",
          "name": "stdout",
          "text": [
            "+--------------+-----------+----------+--------------+-------------------+\n",
            "|     review_id|customer_id|product_id|product_parent|        review_date|\n",
            "+--------------+-----------+----------+--------------+-------------------+\n",
            "|R100GUW0J5VD4G|   22816749|B00DSQZNF0|     615254651|2015-01-16 00:06:00|\n",
            "|R100VGJCANRF8E|   31402527|B001GVIT6E|      41991887|2013-01-06 00:11:00|\n",
            "|R101085SG18YDI|    9818229|B006TH3XXY|     727501131|2015-01-04 00:06:00|\n",
            "+--------------+-----------+----------+--------------+-------------------+\n",
            "only showing top 3 rows\n",
            "\n"
          ]
        }
      ]
    },
    {
      "cell_type": "code",
      "source": [
        "# Create the products table\n",
        "products = df.select([\"product_id\", \"product_title\"])\n",
        "\n",
        "# Drop duplicate products\n",
        "products = products.dropDuplicates()\n",
        "products.show(3)"
      ],
      "metadata": {
        "colab": {
          "base_uri": "https://localhost:8080/"
        },
        "id": "T1rNqt9LzYlR",
        "outputId": "64f1b660-ff38-496d-d53e-eb234faab982"
      },
      "execution_count": null,
      "outputs": [
        {
          "output_type": "stream",
          "name": "stdout",
          "text": [
            "+----------+--------------------+\n",
            "|product_id|       product_title|\n",
            "+----------+--------------------+\n",
            "|B0088PCJ1C|Bob's Pickle Pops...|\n",
            "|B005P0U5BO|Envirokidz Organi...|\n",
            "|B00K2RY8GI|Coffee Variety Sa...|\n",
            "+----------+--------------------+\n",
            "only showing top 3 rows\n",
            "\n"
          ]
        }
      ]
    },
    {
      "cell_type": "code",
      "source": [
        "# Create the customers table\n",
        "customers = df.groupby(\"customer_id\").agg({\"customer_id\":\"count\"})\n",
        "customers = customers.withColumnRenamed(\"count(customer_id)\", \"customer_count\")\n",
        "\n",
        "# Check the schema of the customers table\n",
        "customers.printSchema()"
      ],
      "metadata": {
        "colab": {
          "base_uri": "https://localhost:8080/"
        },
        "id": "_BeKoPxozdrT",
        "outputId": "6d631e53-285a-4720-c8e3-380accd45e8f"
      },
      "execution_count": null,
      "outputs": [
        {
          "output_type": "stream",
          "name": "stdout",
          "text": [
            "root\n",
            " |-- customer_id: integer (nullable = true)\n",
            " |-- customer_count: long (nullable = false)\n",
            "\n"
          ]
        }
      ]
    },
    {
      "cell_type": "code",
      "source": [
        "# Cast customer_count column as an integer\n",
        "from pyspark.sql.types import IntegerType\n",
        "customers = customers.withColumn(\"customer_count\", customers.customer_count.cast('integer'))\n",
        "\n",
        "# Re-check the schema of the customers table\n",
        "customers.printSchema()"
      ],
      "metadata": {
        "colab": {
          "base_uri": "https://localhost:8080/"
        },
        "id": "6fHeCB4xzgfQ",
        "outputId": "314f09ba-faf3-4ac6-9277-138e7d9ea64a"
      },
      "execution_count": null,
      "outputs": [
        {
          "output_type": "stream",
          "name": "stdout",
          "text": [
            "root\n",
            " |-- customer_id: integer (nullable = true)\n",
            " |-- customer_count: integer (nullable = false)\n",
            "\n"
          ]
        }
      ]
    },
    {
      "cell_type": "code",
      "source": [
        "# Reorder customer table by customer_count\n",
        "from pyspark.sql.functions import desc\n",
        "customers = customers.orderBy(desc(\"customer_count\"))\n",
        "\n",
        "customers.show(3)"
      ],
      "metadata": {
        "colab": {
          "base_uri": "https://localhost:8080/"
        },
        "id": "DGP63xnxzjd5",
        "outputId": "d3227879-5ef6-41e4-a897-fba58d48474d"
      },
      "execution_count": null,
      "outputs": [
        {
          "output_type": "stream",
          "name": "stdout",
          "text": [
            "+-----------+--------------+\n",
            "|customer_id|customer_count|\n",
            "+-----------+--------------+\n",
            "|   34247947|          1206|\n",
            "|   17407953|           893|\n",
            "|   12201275|           737|\n",
            "+-----------+--------------+\n",
            "only showing top 3 rows\n",
            "\n"
          ]
        }
      ]
    },
    {
      "cell_type": "code",
      "source": [
        "# Create the vine_table\n",
        "vine_table = df.select([\"review_id\", \"star_rating\", \"helpful_votes\", \"total_votes\", \"vine\"])\n",
        "\n",
        "vine_table.show(3)"
      ],
      "metadata": {
        "colab": {
          "base_uri": "https://localhost:8080/"
        },
        "id": "qoQBJns10fQd",
        "outputId": "e603625a-66c0-430d-821a-7e76cccfbee6"
      },
      "execution_count": null,
      "outputs": [
        {
          "output_type": "stream",
          "name": "stdout",
          "text": [
            "+--------------+-----------+-------------+-----------+----+\n",
            "|     review_id|star_rating|helpful_votes|total_votes|vine|\n",
            "+--------------+-----------+-------------+-----------+----+\n",
            "|R26MV8D0KG6QI6|          5|            0|          0|   N|\n",
            "|R1OF8GP57AQ1A0|          5|            0|          0|   N|\n",
            "|R3VDC1QB6MC4ZZ|          5|            0|          0|   N|\n",
            "+--------------+-----------+-------------+-----------+----+\n",
            "only showing top 3 rows\n",
            "\n"
          ]
        }
      ]
    },
    {
      "cell_type": "code",
      "source": [
        "# Configure settings for RDS\n",
        "mode = \"append\"\n",
        "#jdbc_url=\"jdbc:postgresql://<connection string>:5432/<database-name>\"\n",
        "jdbc_url=\"jdbc:postgresql://:5432/groceriesdb\"\n",
        "config = {\"user\":\"postgres\", \n",
        "          \"password\": \"\", \n",
        "          \"driver\":\"org.postgresql.Driver\"}"
      ],
      "metadata": {
        "id": "kTCRZ7D46sht"
      },
      "execution_count": null,
      "outputs": []
    },
    {
      "cell_type": "code",
      "source": [
        "# Write DataFrame to review_id_table table in RDS\n",
        "\n",
        "review_id_table.write.jdbc(url=jdbc_url, table='review_id_table', mode=mode, properties=config)"
      ],
      "metadata": {
        "id": "hzanVsjx6tJz"
      },
      "execution_count": null,
      "outputs": []
    },
    {
      "cell_type": "code",
      "source": [
        "# Write DataFrame to products table in RDS\n",
        "\n",
        "products.write.jdbc(url=jdbc_url, table='products', mode=mode, properties=config)"
      ],
      "metadata": {
        "id": "2i58EiPH6veP"
      },
      "execution_count": null,
      "outputs": []
    },
    {
      "cell_type": "code",
      "source": [
        "# Write DataFrame to customers table in RDS\n",
        "\n",
        "customers.write.jdbc(url=jdbc_url, table='customers', mode=mode, properties=config)"
      ],
      "metadata": {
        "id": "VSq6RQ5o6xk4"
      },
      "execution_count": null,
      "outputs": []
    },
    {
      "cell_type": "code",
      "source": [
        "# Write DataFrame to vine_table table in RDS\n",
        "\n",
        "vine_table.write.jdbc(url=jdbc_url, table='vine_table', mode=mode, properties=config)"
      ],
      "metadata": {
        "id": "O8t-VhiC6zgU"
      },
      "execution_count": null,
      "outputs": []
    }
  ]
}